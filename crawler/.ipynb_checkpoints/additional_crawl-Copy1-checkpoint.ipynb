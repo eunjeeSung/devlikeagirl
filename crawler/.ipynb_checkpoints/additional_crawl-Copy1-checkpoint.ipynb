{
 "cells": [
  {
   "cell_type": "code",
   "execution_count": 1,
   "metadata": {},
   "outputs": [],
   "source": [
    "from selenium import webdriver\n",
    "from bs4 import BeautifulSoup\n",
    "from time import sleep\n",
    "import requests\n",
    "import json\n",
    "import re\n",
    "from selenium.common.exceptions import NoSuchElementException\n",
    "import csv\n",
    "import pandas as pd\n",
    "from urllib.request import urlopen\n",
    "import sys\n",
    "import io\n",
    "import glob\n",
    "import os"
   ]
  },
  {
   "cell_type": "code",
   "execution_count": 2,
   "metadata": {},
   "outputs": [],
   "source": [
    "#기존 csv 파일 읽어들이기\n",
    "path = r'../crawler/00년대_크롤링'                     # use your path\n",
    "all_files = glob.glob(os.path.join(path, \"*.csv\")) \n",
    "\n",
    "results = []\n",
    "attr_names = ['rank', 'sond_id', 'title', 'singers', 'album', 'date','genre', 'creator', 'lyric']\n",
    "\n",
    "\n",
    "for f in range(len(all_files)):\n",
    "    if f % 2 == 0:\n",
    "        count = 0\n",
    "        with open(str(all_files[f]), newline='') as csvfile:\n",
    "            reader = csv.DictReader(csvfile)\n",
    "            for row in reader:\n",
    "                if count < 10:\n",
    "                    result = {}\n",
    "                    result['rank'] = row['rank']\n",
    "                    result['song_id'] = row['song_id']\n",
    "                    result['title'] = row['title']\n",
    "                    result['singers'] = row['singers']\n",
    "                    result['album'] = row['album']\n",
    "                    result['date'] = row['date']\n",
    "                    result['genre'] = row['genre']\n",
    "                    result['creator'] = row['creator']\n",
    "                    result['lyric'] = row['lyric']    \n",
    "                    results.append(result)\n",
    "                    count += 1\n",
    "                else:\n",
    "                    break"
   ]
  },
  {
   "cell_type": "code",
   "execution_count": 4,
   "metadata": {},
   "outputs": [
    {
     "name": "stdout",
     "output_type": "stream",
     "text": [
      "{'rank': '2', 'song_id': '489866', 'title': '비젼', 'singers': '유승준', 'album': 'You Seung Jun Best & J Duet Collection', 'date': '2001.09.01', 'genre': 'Dance', 'creator': '이현도', 'lyric': '아닐거라 말해도 눈감지는 말아  네 꿈을 찾을 테니까  - 간 주 중 - 숫자만 하나씩 밀려나가는  어제와 똑같은 지친 아침을  생각없이 체념한 듯이 맞이하고 있니?  모두가 똑같은 표준의 시계 그대로  보며 맞춰나가며 그대로  너는 정말로 행복할꺼니?  누구를 위한 것도 아냐, 꿈이없다면 메뉴얼대로 살아만 간다면  과연 꿈꿀 수 있을까?  커다란 날개를 달아!다시 태어나!  허무하게 남겨진 어제를 벗어나!  높이 날고 싶다면 작은 망설임은 걷어차버려!  끝없는 미지를 향해 내딛어야 해!  새롭게 시작되는 오늘에 누구도  나를 대신 살아 줄 수는 없는거야  추운날의 알레르기 따위에 겁을 내는 것이  어떻게 행복해지는 거야?  그래 다 그렇게 무균상태에 길들여져서  자신도 모르게 약해져 가는데 울어버린 것만 같은 후회 뒤늦게 밀려올때  그땐 늦게 될꺼야  진정한 자신의 바램에 가깝게 가기위해  꿈을 멈추어서는 안돼 네 삶을 사는 것이 아냐 뜻이 없다면 메뉴얼대로 살아만 간다면 과연 꿈꿀 수 있을까?  커다란 날개를 달아!다시 태어나!  허무하게 남겨진 어제를 벗어나!  높이 날고 싶다면  작은 망설임은 걷어차버려!  끝없는 미지를 향해 내딛어야 해!  새롭게 시작되는 오늘에 누구도  나를 대신 살아 줄 수는 없는거야 다시 태어난다 해도 자신이고 싶은  그런 모습의 그삶을 위하여 발을 내딛어!  그 아무도 알 수 없는 내일로'}\n"
     ]
    }
   ],
   "source": [
    "print(results[1])"
   ]
  },
  {
   "cell_type": "code",
   "execution_count": 20,
   "metadata": {},
   "outputs": [],
   "source": [
    "driver = webdriver.Chrome('./chromedriver')\n",
    "song_id = results[400]['song_id']\n",
    "driver.get('https://www.melon.com/song/detail.htm?songId='+song_id)\n",
    "driver.implicitly_wait(2)\n"
   ]
  },
  {
   "cell_type": "code",
   "execution_count": 21,
   "metadata": {},
   "outputs": [],
   "source": [
    "html = driver.page_source\n",
    "soup = BeautifulSoup(html, \"lxml\")"
   ]
  },
  {
   "cell_type": "code",
   "execution_count": 37,
   "metadata": {},
   "outputs": [],
   "source": [
    "singer_ids = []\n",
    "singer_chunk = soup.select('#downloadfrm > div > div > div.entry > div.info > div.artist > a')[0]\n",
    "singer_id = str(singer_chunk).split('goArtistDetail')[1].split('\"')[0].split(\"'\")[1]\n",
    "singer_ids.append(singer_id)"
   ]
  },
  {
   "cell_type": "code",
   "execution_count": 41,
   "metadata": {},
   "outputs": [],
   "source": [
    "singer_search = driver.find_element_by_xpath('//*[@id=\"downloadfrm\"]/div/div/div[2]/div[1]/div[2]/a')\n",
    "singer_search.click()\n",
    "driver.implicitly_wait(2)\n"
   ]
  },
  {
   "cell_type": "code",
   "execution_count": 42,
   "metadata": {},
   "outputs": [],
   "source": [
    "detail_page = driver.find_element_by_xpath('//*[@id=\"conts\"]/div[3]/ul/li[2]/a')\n",
    "detail_page.click()\n",
    "driver.implicitly_wait(2)"
   ]
  },
  {
   "cell_type": "code",
   "execution_count": 73,
   "metadata": {},
   "outputs": [
    {
     "name": "stdout",
     "output_type": "stream",
     "text": [
      "1\n"
     ]
    }
   ],
   "source": [
    "html = driver.page_source\n",
    "soup = BeautifulSoup(html, \"lxml\")\n",
    "block = soup.select('#conts > div.section_atistinfo03 > dl')[0]\n",
    "block = str(block).replace('\\n','')\n",
    "block = str(block).replace('\\t','')\n",
    "array = str(block).split('<dt>')\n",
    "\n",
    "debut_num = 0\n",
    "type_num = 0\n",
    "company_num = 0\n",
    "\n",
    "for a in range(len(array)):\n",
    "    if '데뷔' in array[a]:\n",
    "        debut_num = a\n",
    "    elif '유형' in array[a]:\n",
    "        type_num = a\n",
    "    elif '소속사명' in array[a]:\n",
    "        company_num = a\n",
    "print(debut_num)\n",
    "\n",
    "\n",
    "#print(str(block).split('<dt>'))#"
   ]
  },
  {
   "cell_type": "code",
   "execution_count": null,
   "metadata": {},
   "outputs": [],
   "source": [
    "debut = soup.select('#conts > div.section_atistinfo03 > dl > dd:nth-of-type({})'.format(debut_num))[0].text\n",
    "print(debut)\n",
    "detail = soup.select('#conts > div.section_atistinfo03 > dl > dd:nth-of-type({})'.format(type_num))[0].text\n",
    "detail = detail.replace('\\n','')\n",
    "detail = detail.replace('\\t','')\n",
    "print(detail.split('|'))\n",
    "singer_type = detail[0]\n",
    "singer_gender = detail[1]"
   ]
  },
  {
   "cell_type": "code",
   "execution_count": 19,
   "metadata": {},
   "outputs": [
    {
     "name": "stdout",
     "output_type": "stream",
     "text": [
      "yes\n",
      "후크엔터테인먼트\n"
     ]
    }
   ],
   "source": [
    "box = soup.select('#conts > div.section_atistinfo03')[0].text\n",
    "html = driver.page_source\n",
    "soup = BeautifulSoup(html, \"lxml\")\n",
    "\n",
    "if '소속사명' in box:\n",
    "    company = soup.select('#conts > div.section_atistinfo03 > dl > dd:nth-of-type({})'.format(company_num)[0].text\n",
    "    print(company)"
   ]
  },
  {
   "cell_type": "code",
   "execution_count": 33,
   "metadata": {},
   "outputs": [
    {
     "name": "stdout",
     "output_type": "stream",
     "text": [
      "<div class=\"section_atistinfo04\">\n",
      "<h3 class=\"title line arr\">신상정보</h3>\n",
      "<dl class=\"list_define clfix\">\n",
      "<!-- 그룹일경우 국적만 표시 -->\n",
      "<dt>국적</dt>\n",
      "<dd>대한민국</dd>\n",
      "<dt>생일</dt>\n",
      "<dd>1957.08.12</dd>\n",
      "</dl>\n",
      "</div>\n",
      "2\n"
     ]
    }
   ],
   "source": [
    "block2 = soup.select('#conts > div.section_atistinfo04')[0]\n",
    "print(block2)\n",
    "block2 = str(block2).replace('\\n','')\n",
    "block2 = str(block2).replace('\\t','')\n",
    "array2 = str(block2).split('<dt>')\n",
    "\n",
    "bth_num = 0\n",
    "\n",
    "for a in range(len(array2)):\n",
    "    if '생일' in array[a]:\n",
    "        bth_num = a\n",
    "print(a)"
   ]
  },
  {
   "cell_type": "code",
   "execution_count": 5,
   "metadata": {},
   "outputs": [
    {
     "name": "stdout",
     "output_type": "stream",
     "text": [
      "--------------------start-------------------------\n",
      "song_id : 38541\n",
      "singer_id : 889\n",
      "singer_type : 솔로\n",
      "singer_gender : 남성\n",
      "company : 건음기획\n",
      "birthday : 1968.01.13\n",
      "--------------------start-------------------------\n",
      "song_id : 489866\n",
      "singer_id : 1008\n",
      "singer_type : 솔로\n",
      "singer_gender : 남성\n",
      "company : JC그룹 인터내셔널\n",
      "birthday : 1976.12.15\n",
      "--------------------start-------------------------\n",
      "song_id : 91324\n",
      "singer_id : 100007\n",
      "singer_type : 그룹\n",
      "singer_gender : 남성\n",
      "company : 아이에이치큐\n",
      "--------------------start-------------------------\n",
      "song_id : 1139376\n",
      "singer_id : 969\n",
      "singer_type : 솔로\n",
      "singer_gender : 남성\n",
      "company : 품엔터테인먼트\n",
      "birthday : 1977.03.11\n",
      "--------------------start-------------------------\n",
      "song_id : 105690\n",
      "singer_id : 100065\n",
      "singer_type : 그룹\n",
      "singer_gender : 여성\n",
      "--------------------start-------------------------\n",
      "song_id : 85257\n",
      "singer_id : 3895\n",
      "singer_type : 솔로\n",
      "singer_gender : 여성\n",
      "company : 바나나컬쳐\n",
      "birthday : 1980.02.07\n",
      "--------------------start-------------------------\n",
      "song_id : 37992\n",
      "singer_id : 1081\n"
     ]
    },
    {
     "ename": "NoSuchElementException",
     "evalue": "Message: no such element: Unable to locate element: {\"method\":\"xpath\",\"selector\":\"//*[@id=\"conts\"]/div[3]/ul/li[2]/a\"}\n  (Session info: chrome=70.0.3538.102)\n  (Driver info: chromedriver=2.42.591059 (a3d9684d10d61aa0c45f6723b327283be1ebaad8),platform=Mac OS X 10.12.6 x86_64)\n",
     "output_type": "error",
     "traceback": [
      "\u001b[0;31m---------------------------------------------------------------------------\u001b[0m",
      "\u001b[0;31mNoSuchElementException\u001b[0m                    Traceback (most recent call last)",
      "\u001b[0;32m<ipython-input-5-4b73e631681a>\u001b[0m in \u001b[0;36m<module>\u001b[0;34m()\u001b[0m\n\u001b[1;32m     45\u001b[0m             \u001b[0mdriver\u001b[0m\u001b[0;34m.\u001b[0m\u001b[0mimplicitly_wait\u001b[0m\u001b[0;34m(\u001b[0m\u001b[0;36m2\u001b[0m\u001b[0;34m)\u001b[0m\u001b[0;34m\u001b[0m\u001b[0m\n\u001b[1;32m     46\u001b[0m             \u001b[0;31m#print(\"singer_search\")\u001b[0m\u001b[0;34m\u001b[0m\u001b[0;34m\u001b[0m\u001b[0m\n\u001b[0;32m---> 47\u001b[0;31m             \u001b[0mdetail_page\u001b[0m \u001b[0;34m=\u001b[0m \u001b[0mdriver\u001b[0m\u001b[0;34m.\u001b[0m\u001b[0mfind_element_by_xpath\u001b[0m\u001b[0;34m(\u001b[0m\u001b[0;34m'//*[@id=\"conts\"]/div[3]/ul/li[2]/a'\u001b[0m\u001b[0;34m)\u001b[0m\u001b[0;34m\u001b[0m\u001b[0m\n\u001b[0m\u001b[1;32m     48\u001b[0m             \u001b[0mdetail_page\u001b[0m\u001b[0;34m.\u001b[0m\u001b[0mclick\u001b[0m\u001b[0;34m(\u001b[0m\u001b[0;34m)\u001b[0m\u001b[0;34m\u001b[0m\u001b[0m\n\u001b[1;32m     49\u001b[0m \u001b[0;34m\u001b[0m\u001b[0m\n",
      "\u001b[0;32m~/anaconda3/lib/python3.6/site-packages/selenium/webdriver/remote/webdriver.py\u001b[0m in \u001b[0;36mfind_element_by_xpath\u001b[0;34m(self, xpath)\u001b[0m\n\u001b[1;32m    392\u001b[0m             \u001b[0melement\u001b[0m \u001b[0;34m=\u001b[0m \u001b[0mdriver\u001b[0m\u001b[0;34m.\u001b[0m\u001b[0mfind_element_by_xpath\u001b[0m\u001b[0;34m(\u001b[0m\u001b[0;34m'//div/td[1]'\u001b[0m\u001b[0;34m)\u001b[0m\u001b[0;34m\u001b[0m\u001b[0m\n\u001b[1;32m    393\u001b[0m         \"\"\"\n\u001b[0;32m--> 394\u001b[0;31m         \u001b[0;32mreturn\u001b[0m \u001b[0mself\u001b[0m\u001b[0;34m.\u001b[0m\u001b[0mfind_element\u001b[0m\u001b[0;34m(\u001b[0m\u001b[0mby\u001b[0m\u001b[0;34m=\u001b[0m\u001b[0mBy\u001b[0m\u001b[0;34m.\u001b[0m\u001b[0mXPATH\u001b[0m\u001b[0;34m,\u001b[0m \u001b[0mvalue\u001b[0m\u001b[0;34m=\u001b[0m\u001b[0mxpath\u001b[0m\u001b[0;34m)\u001b[0m\u001b[0;34m\u001b[0m\u001b[0m\n\u001b[0m\u001b[1;32m    395\u001b[0m \u001b[0;34m\u001b[0m\u001b[0m\n\u001b[1;32m    396\u001b[0m     \u001b[0;32mdef\u001b[0m \u001b[0mfind_elements_by_xpath\u001b[0m\u001b[0;34m(\u001b[0m\u001b[0mself\u001b[0m\u001b[0;34m,\u001b[0m \u001b[0mxpath\u001b[0m\u001b[0;34m)\u001b[0m\u001b[0;34m:\u001b[0m\u001b[0;34m\u001b[0m\u001b[0m\n",
      "\u001b[0;32m~/anaconda3/lib/python3.6/site-packages/selenium/webdriver/remote/webdriver.py\u001b[0m in \u001b[0;36mfind_element\u001b[0;34m(self, by, value)\u001b[0m\n\u001b[1;32m    976\u001b[0m         return self.execute(Command.FIND_ELEMENT, {\n\u001b[1;32m    977\u001b[0m             \u001b[0;34m'using'\u001b[0m\u001b[0;34m:\u001b[0m \u001b[0mby\u001b[0m\u001b[0;34m,\u001b[0m\u001b[0;34m\u001b[0m\u001b[0m\n\u001b[0;32m--> 978\u001b[0;31m             'value': value})['value']\n\u001b[0m\u001b[1;32m    979\u001b[0m \u001b[0;34m\u001b[0m\u001b[0m\n\u001b[1;32m    980\u001b[0m     \u001b[0;32mdef\u001b[0m \u001b[0mfind_elements\u001b[0m\u001b[0;34m(\u001b[0m\u001b[0mself\u001b[0m\u001b[0;34m,\u001b[0m \u001b[0mby\u001b[0m\u001b[0;34m=\u001b[0m\u001b[0mBy\u001b[0m\u001b[0;34m.\u001b[0m\u001b[0mID\u001b[0m\u001b[0;34m,\u001b[0m \u001b[0mvalue\u001b[0m\u001b[0;34m=\u001b[0m\u001b[0;32mNone\u001b[0m\u001b[0;34m)\u001b[0m\u001b[0;34m:\u001b[0m\u001b[0;34m\u001b[0m\u001b[0m\n",
      "\u001b[0;32m~/anaconda3/lib/python3.6/site-packages/selenium/webdriver/remote/webdriver.py\u001b[0m in \u001b[0;36mexecute\u001b[0;34m(self, driver_command, params)\u001b[0m\n\u001b[1;32m    319\u001b[0m         \u001b[0mresponse\u001b[0m \u001b[0;34m=\u001b[0m \u001b[0mself\u001b[0m\u001b[0;34m.\u001b[0m\u001b[0mcommand_executor\u001b[0m\u001b[0;34m.\u001b[0m\u001b[0mexecute\u001b[0m\u001b[0;34m(\u001b[0m\u001b[0mdriver_command\u001b[0m\u001b[0;34m,\u001b[0m \u001b[0mparams\u001b[0m\u001b[0;34m)\u001b[0m\u001b[0;34m\u001b[0m\u001b[0m\n\u001b[1;32m    320\u001b[0m         \u001b[0;32mif\u001b[0m \u001b[0mresponse\u001b[0m\u001b[0;34m:\u001b[0m\u001b[0;34m\u001b[0m\u001b[0m\n\u001b[0;32m--> 321\u001b[0;31m             \u001b[0mself\u001b[0m\u001b[0;34m.\u001b[0m\u001b[0merror_handler\u001b[0m\u001b[0;34m.\u001b[0m\u001b[0mcheck_response\u001b[0m\u001b[0;34m(\u001b[0m\u001b[0mresponse\u001b[0m\u001b[0;34m)\u001b[0m\u001b[0;34m\u001b[0m\u001b[0m\n\u001b[0m\u001b[1;32m    322\u001b[0m             response['value'] = self._unwrap_value(\n\u001b[1;32m    323\u001b[0m                 response.get('value', None))\n",
      "\u001b[0;32m~/anaconda3/lib/python3.6/site-packages/selenium/webdriver/remote/errorhandler.py\u001b[0m in \u001b[0;36mcheck_response\u001b[0;34m(self, response)\u001b[0m\n\u001b[1;32m    240\u001b[0m                 \u001b[0malert_text\u001b[0m \u001b[0;34m=\u001b[0m \u001b[0mvalue\u001b[0m\u001b[0;34m[\u001b[0m\u001b[0;34m'alert'\u001b[0m\u001b[0;34m]\u001b[0m\u001b[0;34m.\u001b[0m\u001b[0mget\u001b[0m\u001b[0;34m(\u001b[0m\u001b[0;34m'text'\u001b[0m\u001b[0;34m)\u001b[0m\u001b[0;34m\u001b[0m\u001b[0m\n\u001b[1;32m    241\u001b[0m             \u001b[0;32mraise\u001b[0m \u001b[0mexception_class\u001b[0m\u001b[0;34m(\u001b[0m\u001b[0mmessage\u001b[0m\u001b[0;34m,\u001b[0m \u001b[0mscreen\u001b[0m\u001b[0;34m,\u001b[0m \u001b[0mstacktrace\u001b[0m\u001b[0;34m,\u001b[0m \u001b[0malert_text\u001b[0m\u001b[0;34m)\u001b[0m\u001b[0;34m\u001b[0m\u001b[0m\n\u001b[0;32m--> 242\u001b[0;31m         \u001b[0;32mraise\u001b[0m \u001b[0mexception_class\u001b[0m\u001b[0;34m(\u001b[0m\u001b[0mmessage\u001b[0m\u001b[0;34m,\u001b[0m \u001b[0mscreen\u001b[0m\u001b[0;34m,\u001b[0m \u001b[0mstacktrace\u001b[0m\u001b[0;34m)\u001b[0m\u001b[0;34m\u001b[0m\u001b[0m\n\u001b[0m\u001b[1;32m    243\u001b[0m \u001b[0;34m\u001b[0m\u001b[0m\n\u001b[1;32m    244\u001b[0m     \u001b[0;32mdef\u001b[0m \u001b[0m_value_or_default\u001b[0m\u001b[0;34m(\u001b[0m\u001b[0mself\u001b[0m\u001b[0;34m,\u001b[0m \u001b[0mobj\u001b[0m\u001b[0;34m,\u001b[0m \u001b[0mkey\u001b[0m\u001b[0;34m,\u001b[0m \u001b[0mdefault\u001b[0m\u001b[0;34m)\u001b[0m\u001b[0;34m:\u001b[0m\u001b[0;34m\u001b[0m\u001b[0m\n",
      "\u001b[0;31mNoSuchElementException\u001b[0m: Message: no such element: Unable to locate element: {\"method\":\"xpath\",\"selector\":\"//*[@id=\"conts\"]/div[3]/ul/li[2]/a\"}\n  (Session info: chrome=70.0.3538.102)\n  (Driver info: chromedriver=2.42.591059 (a3d9684d10d61aa0c45f6723b327283be1ebaad8),platform=Mac OS X 10.12.6 x86_64)\n"
     ]
    }
   ],
   "source": [
    "driver = webdriver.Chrome('./chromedriver')\n",
    "driver.implicitly_wait(2)\n",
    "singer_ids = []\n",
    "song_sings = []\n",
    "song_ids = []\n",
    "addtional_results = []\n",
    "\n",
    "#song id, singer_id, debut, type, gender, company\n",
    "for result in results:\n",
    "    print(\"--------------------start-------------------------\")\n",
    "    song_sing = {}\n",
    "    song_id = result['song_id']\n",
    "    \n",
    "    if song_id in song_ids:\n",
    "        pass\n",
    "    else:\n",
    "        song_ids.append(song_id)\n",
    "\n",
    "        song_sing['song_id'] = song_id\n",
    "        print(\"song_id : \" + song_id)\n",
    "        driver.get('https://www.melon.com/song/detail.htm?songId='+song_id)\n",
    "        driver.implicitly_wait(5)\n",
    "\n",
    "        additional_result = {}\n",
    "        additional_result['song_id'] = song_id\n",
    "\n",
    "        html = driver.page_source\n",
    "        soup = BeautifulSoup(html, \"lxml\")\n",
    "\n",
    "        #불러오지 않은 정보라면\n",
    "\n",
    "        singer_chunk = soup.select('#downloadfrm > div > div > div.entry > div.info > div.artist > a')[0]\n",
    "        singer_id = str(singer_chunk).split('goArtistDetail')[1].split('\"')[0].split(\"'\")[1]\n",
    "        additional_result['singer_id'] = singer_id  \n",
    "        print(\"singer_id : \" + singer_id)\n",
    "        song_sing['singer_id'] = singer_id\n",
    "        song_sings.append(song_sing)\n",
    "\n",
    "\n",
    "        if singer_id not in singer_ids:\n",
    "            singer_ids.append(singer_id)\n",
    "            driver.implicitly_wait(5)\n",
    "            singer_search = driver.find_element_by_xpath('//*[@id=\"downloadfrm\"]/div/div/div[2]/div[1]/div[2]/a')\n",
    "            singer_search.click()\n",
    "            driver.implicitly_wait(2)\n",
    "            #print(\"singer_search\")\n",
    "            detail_page = driver.find_element_by_xpath('//*[@id=\"conts\"]/div[3]/ul/li[2]/a')\n",
    "            detail_page.click()\n",
    "            \n",
    "            driver.implicitly_wait(5)\n",
    "            #print(\"detail_page\")\n",
    "\n",
    "            html = driver.page_source\n",
    "            soup = BeautifulSoup(html, \"lxml\")\n",
    "            driver.implicitly_wait(2)            \n",
    "            #데뷔, 타입, 소속사명 있는 블록\n",
    "            block = soup.select('#conts > div.section_atistinfo03 > dl')[0]\n",
    "            block = str(block).replace('\\n','')\n",
    "            block = str(block).replace('\\t','')\n",
    "            array = str(block).split('<dt>')\n",
    "\n",
    "            debut_num = 0\n",
    "            type_num = 0\n",
    "            company_num = 0\n",
    "\n",
    "            for a in range(len(array)):\n",
    "                if '데뷔' in array[a]:\n",
    "                    debut_num = a\n",
    "                elif '유형' in array[a]:\n",
    "                    type_num = a\n",
    "                elif '소속사명' in array[a]:\n",
    "                    company_num = a\n",
    "\n",
    "            if debut_num != 0:\n",
    "                debut = soup.select('#conts > div.section_atistinfo03 > dl > dd:nth-of-type({})'.format(debut_num))[0].text\n",
    "                #print(debut)\n",
    "                if '|' in debut:\n",
    "                    debut = debut.split('|')[0].replace('\\n','')\n",
    "                    print(\"debut : \"+debut)\n",
    "                additional_result['debut'] = debut\n",
    "\n",
    "            if type_num != 0:\n",
    "                detail = soup.select('#conts > div.section_atistinfo03 > dl > dd:nth-of-type({})'.format(type_num))[0].text\n",
    "                detail = detail.replace('\\n','')\n",
    "                detail = detail.replace('\\t','')\n",
    "                detail = detail.split('|')\n",
    "\n",
    "                singer_type = detail[0]\n",
    "                singer_gender = detail[1]\n",
    "                print(\"singer_type : \"+singer_type)\n",
    "                print(\"singer_gender : \"+singer_gender)\n",
    "\n",
    "                additional_result['singer_type'] = singer_type\n",
    "                additional_result['singer_gender'] = singer_gender\n",
    "\n",
    "            if company_num != 0:\n",
    "                company = soup.select('#conts > div.section_atistinfo03 > dl > dd:nth-of-type({})'.format(company_num))[0].text\n",
    "                print(\"company : \"+company)\n",
    "                additional_result['company'] = company\n",
    "                \n",
    "            html = driver.page_source\n",
    "            soup = BeautifulSoup(html, \"lxml\")   \n",
    "            block2 = soup.select('#conts > div.section_atistinfo04')[0]\n",
    "            block2 = str(block2).replace('\\n','')\n",
    "            block2 = str(block2).replace('\\t','')\n",
    "            array2 = str(block2).split('<dt>')\n",
    "\n",
    "            bth_num = 0\n",
    "            for a in range(len(array2)):\n",
    "                if '생일' in array2[a]:\n",
    "                    bth_num = a\n",
    "            if bth_num != 0:\n",
    "                bthday = soup.select('#conts > div.section_atistinfo04 > dl > dd:nth-of-type({})'.format(bth_num))[0].text\n",
    "                additional_result['bthday'] = bthday\n",
    "                print(\"birthday : \"+bthday)\n",
    "\n",
    "            addtional_results.append(additional_result)\n",
    "        else:\n",
    "            print(\"이미 가져온 가수 정보\")\n",
    "            pass\n"
   ]
  },
  {
   "cell_type": "code",
   "execution_count": 18,
   "metadata": {},
   "outputs": [
    {
     "name": "stdout",
     "output_type": "stream",
     "text": [
      "['30', '6', '19', '4788', '990', '859', '23', '102421', '32', '100751', '812', '751', '1012', '914', '5023', '2020', '14065', '448', '1169', '5570', '7697', '33', '4826', '29', '40', '102013', '101012', '966', '7684', '5722', '101971', '21', '1062', '1004', '5761', '13078', '27', '12', '101013', '5856', '6179']\n"
     ]
    }
   ],
   "source": [
    "print(singer_ids)\n"
   ]
  },
  {
   "cell_type": "code",
   "execution_count": 19,
   "metadata": {},
   "outputs": [
    {
     "name": "stdout",
     "output_type": "stream",
     "text": [
      "[{'song_id': '1003049', 'singer_id': '30'}, {'song_id': '68155', 'singer_id': '6'}, {'song_id': '59193', 'singer_id': '19'}, {'song_id': '1867829', 'singer_id': '4788'}, {'song_id': '1002443', 'singer_id': '990'}, {'song_id': '525801', 'singer_id': '859'}, {'song_id': '76684', 'singer_id': '23'}, {'song_id': '2780448', 'singer_id': '102421'}, {'song_id': '1726823', 'singer_id': '32'}, {'song_id': '66539', 'singer_id': '100751'}, {'song_id': '1005216', 'singer_id': '812'}, {'song_id': '1003051', 'singer_id': '30'}, {'song_id': '76683', 'singer_id': '23'}, {'song_id': '1314281', 'singer_id': '751'}, {'song_id': '61379', 'singer_id': '1012'}, {'song_id': '49275', 'singer_id': '914'}, {'song_id': '1008148', 'singer_id': '5023'}, {'song_id': '27192', 'singer_id': '2020'}, {'song_id': '1003052', 'singer_id': '30'}, {'song_id': '1314276', 'singer_id': '751'}, {'song_id': '2216560', 'singer_id': '2020'}, {'song_id': '996058', 'singer_id': '14065'}, {'song_id': '2781708', 'singer_id': '448'}, {'song_id': '81113', 'singer_id': '19'}, {'song_id': '1003056', 'singer_id': '30'}, {'song_id': '526762', 'singer_id': '1169'}, {'song_id': '170848', 'singer_id': '5570'}, {'song_id': '604845', 'singer_id': '990'}, {'song_id': '2773596', 'singer_id': '7697'}, {'song_id': '3618060', 'singer_id': '33'}, {'song_id': '27194', 'singer_id': '2020'}, {'song_id': '69715', 'singer_id': '4826'}, {'song_id': '1008364', 'singer_id': '29'}, {'song_id': '51158', 'singer_id': '40'}, {'song_id': '2513212', 'singer_id': '102013'}, {'song_id': '992352', 'singer_id': '101012'}, {'song_id': '1003075', 'singer_id': '30'}, {'song_id': '48360', 'singer_id': '966'}, {'song_id': '430515', 'singer_id': '7684'}, {'song_id': '62770', 'singer_id': '5722'}, {'song_id': '637620', 'singer_id': '101971'}, {'song_id': '1002233', 'singer_id': '21'}, {'song_id': '91191', 'singer_id': '1062'}, {'song_id': '1016285', 'singer_id': '1004'}, {'song_id': '1003070', 'singer_id': '30'}, {'song_id': '314761', 'singer_id': '5761'}, {'song_id': '48478', 'singer_id': '23'}, {'song_id': '48364', 'singer_id': '966'}, {'song_id': '420274', 'singer_id': '13078'}, {'song_id': '1009480', 'singer_id': '27'}, {'song_id': '48361', 'singer_id': '966'}, {'song_id': '54344', 'singer_id': '12'}, {'song_id': '60876', 'singer_id': '101013'}, {'song_id': '64899', 'singer_id': '990'}, {'song_id': '1003072', 'singer_id': '30'}, {'song_id': '2036556', 'singer_id': '101012'}, {'song_id': '66528', 'singer_id': '100751'}, {'song_id': '50897', 'singer_id': '5856'}, {'song_id': '1008373', 'singer_id': '29'}, {'song_id': '51971', 'singer_id': '6179'}]\n"
     ]
    }
   ],
   "source": [
    "print(song_sings)\n"
   ]
  },
  {
   "cell_type": "code",
   "execution_count": 21,
   "metadata": {},
   "outputs": [
    {
     "name": "stdout",
     "output_type": "stream",
     "text": [
      "{'song_id': '1005216', 'singer_id': '812', 'debut': '1978', 'singer_type': '솔로', 'singer_gender': '남성'}\n"
     ]
    }
   ],
   "source": [
    "\n",
    "print(addtional_results[10])"
   ]
  },
  {
   "cell_type": "code",
   "execution_count": null,
   "metadata": {},
   "outputs": [],
   "source": []
  }
 ],
 "metadata": {
  "kernelspec": {
   "display_name": "Python 3",
   "language": "python",
   "name": "python3"
  },
  "language_info": {
   "codemirror_mode": {
    "name": "ipython",
    "version": 3
   },
   "file_extension": ".py",
   "mimetype": "text/x-python",
   "name": "python",
   "nbconvert_exporter": "python",
   "pygments_lexer": "ipython3",
   "version": "3.6.5"
  }
 },
 "nbformat": 4,
 "nbformat_minor": 2
}
