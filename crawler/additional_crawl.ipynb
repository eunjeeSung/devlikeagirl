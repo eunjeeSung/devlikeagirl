{
 "cells": [
  {
   "cell_type": "code",
   "execution_count": 4,
   "metadata": {},
   "outputs": [],
   "source": [
    "from selenium import webdriver\n",
    "from bs4 import BeautifulSoup\n",
    "from time import sleep\n",
    "import requests\n",
    "import json\n",
    "import re\n",
    "from selenium.common.exceptions import NoSuchElementException\n",
    "import csv\n",
    "import pandas as pd\n",
    "import os\n",
    "from urllib.request import urlopen\n",
    "import sys\n",
    "import io\n",
    "import glob\n",
    "import os"
   ]
  },
  {
   "cell_type": "code",
   "execution_count": 44,
   "metadata": {},
   "outputs": [],
   "source": [
    "#기존 csv 파일 읽어들이기\n",
    "path = r'../crawler/1980s'                     # use your path\n",
    "all_files = glob.glob(os.path.join(path, \"*.csv\")) \n",
    "\n",
    "results = []\n",
    "attr_names = ['rank', 'sond_id', 'title', 'singers', 'album', 'date','genre', 'creator', 'lyric']\n",
    "\n",
    "\n",
    "for f in range(len(all_files)):\n",
    "    if f % 2 == 0:\n",
    "        count = 0\n",
    "        with open(str(all_files[f]), newline='') as csvfile:\n",
    "            reader = csv.DictReader(csvfile)\n",
    "            for row in reader:\n",
    "                if count < 10:\n",
    "                    result = {}\n",
    "                    result['rank'] = row['rank']\n",
    "                    result['song_id'] = row['song_id']\n",
    "                    result['title'] = row['title']\n",
    "                    result['singers'] = row['singers']\n",
    "                    result['album'] = row['album']\n",
    "                    result['date'] = row['date']\n",
    "                    result['genre'] = row['genre']\n",
    "                    result['creator'] = row['creator']\n",
    "                    result['lyric'] = row['lyric']    \n",
    "                    results.append(result)\n",
    "                    count += 1\n",
    "                else:\n",
    "                    break"
   ]
  },
  {
   "cell_type": "code",
   "execution_count": 79,
   "metadata": {},
   "outputs": [],
   "source": [
    "driver = webdriver.Chrome('./chromedriver')\n",
    "song_id = results[400]['song_id']\n",
    "driver.get('https://www.melon.com/song/detail.htm?songId='+song_id)\n",
    "driver.implicitly_wait(2)\n"
   ]
  },
  {
   "cell_type": "code",
   "execution_count": 80,
   "metadata": {},
   "outputs": [],
   "source": [
    "html = driver.page_source\n",
    "soup = BeautifulSoup(html, \"lxml\")"
   ]
  },
  {
   "cell_type": "code",
   "execution_count": 81,
   "metadata": {},
   "outputs": [],
   "source": [
    "singer_search = driver.find_element_by_xpath('//*[@id=\"downloadfrm\"]/div/div/div[2]/div[1]/div[2]/a')\n",
    "singer_search.click()\n",
    "driver.implicitly_wait(2)\n"
   ]
  },
  {
   "cell_type": "code",
   "execution_count": 82,
   "metadata": {},
   "outputs": [],
   "source": [
    "detail_page = driver.find_element_by_xpath('//*[@id=\"conts\"]/div[3]/ul/li[2]/a')\n",
    "detail_page.click()\n",
    "driver.implicitly_wait(2)"
   ]
  },
  {
   "cell_type": "code",
   "execution_count": 83,
   "metadata": {},
   "outputs": [
    {
     "name": "stdout",
     "output_type": "stream",
     "text": [
      "\n",
      "1984|J에게\n",
      "\n",
      "['솔로', '여성']\n"
     ]
    }
   ],
   "source": [
    "html = driver.page_source\n",
    "soup = BeautifulSoup(html, \"lxml\")\n",
    "debut = soup.select('#conts > div.section_atistinfo03 > dl > dd:nth-of-type(1)')[0].text\n",
    "print(debut)\n",
    "detail = soup.select('#conts > div.section_atistinfo03 > dl > dd:nth-of-type(3)')[0].text\n",
    "detail = detail.replace('\\n','')\n",
    "detail = detail.replace('\\t','')\n",
    "print(detail.split('|'))\n",
    "singer_type = detail[0]\n",
    "singer_gender = detail[1]"
   ]
  },
  {
   "cell_type": "code",
   "execution_count": 84,
   "metadata": {},
   "outputs": [
    {
     "name": "stdout",
     "output_type": "stream",
     "text": [
      "[]\n"
     ]
    }
   ],
   "source": [
    "company = soup.select('#conts > div.wrap_dtl_atist > div > div.wrap_atist_info > dl.atist_info.clfix > dd:nth-of-type(8)')\n",
    "if len(company) > 0:\n",
    "    company = company[0].text\n",
    "print(company)"
   ]
  },
  {
   "cell_type": "code",
   "execution_count": null,
   "metadata": {},
   "outputs": [],
   "source": [
    "driver = webdriver.Chrome('./chromedriver')\n",
    "driver.implicitly_wait(2)\n",
    "\n",
    "for result in results:\n",
    "    songUrl = \"https://www.melon.com/song/detail.htm?songId=\" + result['sond_id']\n",
    "    driver.get(songUrl)\n",
    "    driver.implicitly_wait(2)\n",
    "    print(songUrl)\n",
    "    \n",
    "    html = driver.page_source\n",
    "    soup = BeautifulSoup(html, \"lxml\")\n",
    "    \n",
    "    #가수 상세 페이지\n",
    "    soup.select('#downloadfrm > div > div > div.entry > div.info > div.artist > a'\n",
    "    singer_search = driver.find_element_by_xpath('//*[@id=\"downloadfrm\"]/div/div/div[2]/div[1]/div[2]/a')\n",
    "    singer_search.click()\n",
    "    driver.implicitly_wait(2)\n",
    "    \n",
    "    detail_page = driver.find_element_by_xpath('//*[@id=\"conts\"]/div[3]/ul/li[2]/a')\n",
    "    detail_page.click()\n",
    "    driver.implicitly_wait(2)\n",
    "    \n",
    "\n",
    "    \n",
    "    활동 유형(솔로, 성별)\n",
    "소속사\n",
    "생일\n",
    "데뷔\n",
    "활동년대\n"
   ]
  }
 ],
 "metadata": {
  "kernelspec": {
   "display_name": "Python 3",
   "language": "python",
   "name": "python3"
  },
  "language_info": {
   "codemirror_mode": {
    "name": "ipython",
    "version": 3
   },
   "file_extension": ".py",
   "mimetype": "text/x-python",
   "name": "python",
   "nbconvert_exporter": "python",
   "pygments_lexer": "ipython3",
   "version": "3.6.5"
  }
 },
 "nbformat": 4,
 "nbformat_minor": 2
}
