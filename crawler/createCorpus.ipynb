{
 "cells": [
  {
   "cell_type": "code",
   "execution_count": 2,
   "metadata": {
    "collapsed": false
   },
   "outputs": [],
   "source": [
    "import csv"
   ]
  },
  {
   "cell_type": "code",
   "execution_count": 21,
   "metadata": {
    "collapsed": false
   },
   "outputs": [],
   "source": [
    "with open('wholeLyrics.txt', 'wt', encoding='UTF8') as fw:\n",
    "    writer = csv.writer(fw)\n",
    "    for i in range(1,322, 2):\n",
    "        i = 1\n",
    "        filename = '2000lyrics' + str(i) + '.csv'\n",
    "        song_ids = set()\n",
    "\n",
    "        with open(filename, 'rt', encoding='UTF8') as fr:\n",
    "            reader = csv.reader(fr)\n",
    "            k = 0\n",
    "            for row in reader:\n",
    "                k = k+1\n",
    "                if k>8:\n",
    "                    break\n",
    "                song = row[2]\n",
    "                if song not in song_ids:\n",
    "                    song_ids.add(row[2])\n",
    "                    fw.write(row[-1])"
   ]
  },
  {
   "cell_type": "code",
   "execution_count": null,
   "metadata": {
    "collapsed": true
   },
   "outputs": [],
   "source": []
  }
 ],
 "metadata": {
  "anaconda-cloud": {},
  "kernelspec": {
   "display_name": "Python [Root]",
   "language": "python",
   "name": "Python [Root]"
  },
  "language_info": {
   "codemirror_mode": {
    "name": "ipython",
    "version": 3
   },
   "file_extension": ".py",
   "mimetype": "text/x-python",
   "name": "python",
   "nbconvert_exporter": "python",
   "pygments_lexer": "ipython3",
   "version": "3.5.2"
  }
 },
 "nbformat": 4,
 "nbformat_minor": 0
}
